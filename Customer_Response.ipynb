{
  "nbformat": 4,
  "nbformat_minor": 0,
  "metadata": {
    "colab": {
      "name": "Customer Response.ipynb",
      "provenance": [],
      "mount_file_id": "18b3zpmYSY06jmXa33pNtkoXZ4XCvdJCr",
      "authorship_tag": "ABX9TyNUhoO0rHBlTDAsW3byox8n",
      "include_colab_link": true
    },
    "kernelspec": {
      "display_name": "Python 3",
      "name": "python3"
    },
    "language_info": {
      "name": "python"
    }
  },
  "cells": [
    {
      "cell_type": "markdown",
      "metadata": {
        "id": "view-in-github",
        "colab_type": "text"
      },
      "source": [
        "<a href=\"https://colab.research.google.com/github/Ashara-kosi/customerResponse/blob/main/Customer_Response.ipynb\" target=\"_parent\"><img src=\"https://colab.research.google.com/assets/colab-badge.svg\" alt=\"Open In Colab\"/></a>"
      ]
    },
    {
      "cell_type": "code",
      "metadata": {
        "id": "Wkt9ZRy3ZNUw",
        "colab": {
          "base_uri": "https://localhost:8080/"
        },
        "outputId": "bb27ee61-be92-464b-bf84-054ceeb34d03"
      },
      "source": [
        "import pandas as pd\n",
        "import numpy as np\n",
        "import string \n",
        "import nltk\n",
        "%matplotlib inline \n",
        "from nltk.corpus import stopwords\n",
        "from wordcloud import WordCloud, STOPWORDS\n",
        "import spacy\n",
        "import nltk\n",
        "!pip install tweet-preprocessor\n",
        "import preprocessor as p              "
      ],
      "execution_count": null,
      "outputs": [
        {
          "output_type": "stream",
          "name": "stdout",
          "text": [
            "Requirement already satisfied: tweet-preprocessor in /usr/local/lib/python3.7/dist-packages (0.6.0)\n"
          ]
        }
      ]
    },
    {
      "cell_type": "code",
      "metadata": {
        "id": "CcESZ-0-ptkX"
      },
      "source": [
        "tweets = pd.read_csv('/content/drive/MyDrive/twcs/twcs.csv')"
      ],
      "execution_count": null,
      "outputs": []
    },
    {
      "cell_type": "code",
      "metadata": {
        "colab": {
          "base_uri": "https://localhost:8080/"
        },
        "id": "f9Un28KHur_R",
        "outputId": "b3f70bda-6884-4f64-ffd2-c84cb87f3e11"
      },
      "source": [
        "tweets.info()"
      ],
      "execution_count": null,
      "outputs": [
        {
          "output_type": "stream",
          "name": "stdout",
          "text": [
            "<class 'pandas.core.frame.DataFrame'>\n",
            "RangeIndex: 2811774 entries, 0 to 2811773\n",
            "Data columns (total 7 columns):\n",
            " #   Column                   Dtype  \n",
            "---  ------                   -----  \n",
            " 0   tweet_id                 int64  \n",
            " 1   author_id                object \n",
            " 2   inbound                  bool   \n",
            " 3   created_at               object \n",
            " 4   text                     object \n",
            " 5   response_tweet_id        object \n",
            " 6   in_response_to_tweet_id  float64\n",
            "dtypes: bool(1), float64(1), int64(1), object(4)\n",
            "memory usage: 131.4+ MB\n"
          ]
        }
      ]
    },
    {
      "cell_type": "code",
      "metadata": {
        "colab": {
          "base_uri": "https://localhost:8080/"
        },
        "id": "fm7y379tuuCi",
        "outputId": "4d22c5e8-b00c-4241-f34d-51dfc5c85777"
      },
      "source": [
        "tweets.isna().sum()"
      ],
      "execution_count": null,
      "outputs": [
        {
          "output_type": "execute_result",
          "data": {
            "text/plain": [
              "tweet_id                         0\n",
              "author_id                        0\n",
              "inbound                          0\n",
              "created_at                       0\n",
              "text                             0\n",
              "response_tweet_id          1040629\n",
              "in_response_to_tweet_id     794335\n",
              "dtype: int64"
            ]
          },
          "metadata": {},
          "execution_count": 4
        }
      ]
    },
    {
      "cell_type": "code",
      "metadata": {
        "id": "qS459PWfrN8U"
      },
      "source": [
        "#removing null values\n",
        "tweets = tweets.dropna()"
      ],
      "execution_count": null,
      "outputs": []
    },
    {
      "cell_type": "code",
      "metadata": {
        "colab": {
          "base_uri": "https://localhost:8080/"
        },
        "id": "0N7sJZ8ar66r",
        "outputId": "6a6b0cda-5726-4e21-dd3d-53b499a4a97c"
      },
      "source": [
        "tweets.isna().sum()"
      ],
      "execution_count": null,
      "outputs": [
        {
          "output_type": "execute_result",
          "data": {
            "text/plain": [
              "tweet_id                   0\n",
              "author_id                  0\n",
              "inbound                    0\n",
              "created_at                 0\n",
              "text                       0\n",
              "response_tweet_id          0\n",
              "in_response_to_tweet_id    0\n",
              "dtype: int64"
            ]
          },
          "metadata": {},
          "execution_count": 6
        }
      ]
    },
    {
      "cell_type": "code",
      "metadata": {
        "colab": {
          "base_uri": "https://localhost:8080/"
        },
        "id": "wF4_f8W-r9NQ",
        "outputId": "281fdc75-6909-4249-974b-8ddbc27db722"
      },
      "source": [
        "tweets.info()"
      ],
      "execution_count": null,
      "outputs": [
        {
          "output_type": "stream",
          "name": "stdout",
          "text": [
            "<class 'pandas.core.frame.DataFrame'>\n",
            "Int64Index: 976810 entries, 0 to 2811760\n",
            "Data columns (total 7 columns):\n",
            " #   Column                   Non-Null Count   Dtype  \n",
            "---  ------                   --------------   -----  \n",
            " 0   tweet_id                 976810 non-null  int64  \n",
            " 1   author_id                976810 non-null  object \n",
            " 2   inbound                  976810 non-null  bool   \n",
            " 3   created_at               976810 non-null  object \n",
            " 4   text                     976810 non-null  object \n",
            " 5   response_tweet_id        976810 non-null  object \n",
            " 6   in_response_to_tweet_id  976810 non-null  float64\n",
            "dtypes: bool(1), float64(1), int64(1), object(4)\n",
            "memory usage: 53.1+ MB\n"
          ]
        }
      ]
    },
    {
      "cell_type": "code",
      "metadata": {
        "id": "YIGMqQeOr_tt"
      },
      "source": [
        "#using the preprocessing libray to clean text\n",
        "def preprocess_tweet(row):\n",
        "    text = row['text']\n",
        "    text = p.clean(text)\n",
        "    return text\n",
        "\n",
        "tweets['clean_tweet'] = tweets.apply(preprocess_tweet,axis=1)"
      ],
      "execution_count": null,
      "outputs": []
    },
    {
      "cell_type": "code",
      "metadata": {
        "colab": {
          "base_uri": "https://localhost:8080/",
          "height": 688
        },
        "id": "IbHyeijIZnrv",
        "outputId": "afbbe087-d8ca-4597-fe69-4268cda09cc6"
      },
      "source": [
        "tweets.head(10)"
      ],
      "execution_count": null,
      "outputs": [
        {
          "output_type": "execute_result",
          "data": {
            "text/html": [
              "<div>\n",
              "<style scoped>\n",
              "    .dataframe tbody tr th:only-of-type {\n",
              "        vertical-align: middle;\n",
              "    }\n",
              "\n",
              "    .dataframe tbody tr th {\n",
              "        vertical-align: top;\n",
              "    }\n",
              "\n",
              "    .dataframe thead th {\n",
              "        text-align: right;\n",
              "    }\n",
              "</style>\n",
              "<table border=\"1\" class=\"dataframe\">\n",
              "  <thead>\n",
              "    <tr style=\"text-align: right;\">\n",
              "      <th></th>\n",
              "      <th>tweet_id</th>\n",
              "      <th>author_id</th>\n",
              "      <th>inbound</th>\n",
              "      <th>created_at</th>\n",
              "      <th>text</th>\n",
              "      <th>response_tweet_id</th>\n",
              "      <th>in_response_to_tweet_id</th>\n",
              "      <th>clean_tweet</th>\n",
              "    </tr>\n",
              "  </thead>\n",
              "  <tbody>\n",
              "    <tr>\n",
              "      <th>0</th>\n",
              "      <td>1</td>\n",
              "      <td>sprintcare</td>\n",
              "      <td>False</td>\n",
              "      <td>Tue Oct 31 22:10:47 +0000 2017</td>\n",
              "      <td>@115712 I understand. I would like to assist y...</td>\n",
              "      <td>2</td>\n",
              "      <td>3.0</td>\n",
              "      <td>I understand. I would like to assist you. We w...</td>\n",
              "    </tr>\n",
              "    <tr>\n",
              "      <th>2</th>\n",
              "      <td>3</td>\n",
              "      <td>115712</td>\n",
              "      <td>True</td>\n",
              "      <td>Tue Oct 31 22:08:27 +0000 2017</td>\n",
              "      <td>@sprintcare I have sent several private messag...</td>\n",
              "      <td>1</td>\n",
              "      <td>4.0</td>\n",
              "      <td>I have sent several private messages and no on...</td>\n",
              "    </tr>\n",
              "    <tr>\n",
              "      <th>3</th>\n",
              "      <td>4</td>\n",
              "      <td>sprintcare</td>\n",
              "      <td>False</td>\n",
              "      <td>Tue Oct 31 21:54:49 +0000 2017</td>\n",
              "      <td>@115712 Please send us a Private Message so th...</td>\n",
              "      <td>3</td>\n",
              "      <td>5.0</td>\n",
              "      <td>Please send us a Private Message so that we ca...</td>\n",
              "    </tr>\n",
              "    <tr>\n",
              "      <th>4</th>\n",
              "      <td>5</td>\n",
              "      <td>115712</td>\n",
              "      <td>True</td>\n",
              "      <td>Tue Oct 31 21:49:35 +0000 2017</td>\n",
              "      <td>@sprintcare I did.</td>\n",
              "      <td>4</td>\n",
              "      <td>6.0</td>\n",
              "      <td>I did.</td>\n",
              "    </tr>\n",
              "    <tr>\n",
              "      <th>5</th>\n",
              "      <td>6</td>\n",
              "      <td>sprintcare</td>\n",
              "      <td>False</td>\n",
              "      <td>Tue Oct 31 21:46:24 +0000 2017</td>\n",
              "      <td>@115712 Can you please send us a private messa...</td>\n",
              "      <td>5,7</td>\n",
              "      <td>8.0</td>\n",
              "      <td>Can you please send us a private message, so t...</td>\n",
              "    </tr>\n",
              "    <tr>\n",
              "      <th>8</th>\n",
              "      <td>12</td>\n",
              "      <td>115713</td>\n",
              "      <td>True</td>\n",
              "      <td>Tue Oct 31 22:04:47 +0000 2017</td>\n",
              "      <td>@sprintcare You gonna magically change your co...</td>\n",
              "      <td>11,13,14</td>\n",
              "      <td>15.0</td>\n",
              "      <td>You gonna magically change your connectivity f...</td>\n",
              "    </tr>\n",
              "    <tr>\n",
              "      <th>9</th>\n",
              "      <td>15</td>\n",
              "      <td>sprintcare</td>\n",
              "      <td>False</td>\n",
              "      <td>Tue Oct 31 20:03:31 +0000 2017</td>\n",
              "      <td>@115713 We understand your concerns and we'd l...</td>\n",
              "      <td>12</td>\n",
              "      <td>16.0</td>\n",
              "      <td>We understand your concerns and we'd like for ...</td>\n",
              "    </tr>\n",
              "    <tr>\n",
              "      <th>10</th>\n",
              "      <td>16</td>\n",
              "      <td>115713</td>\n",
              "      <td>True</td>\n",
              "      <td>Tue Oct 31 20:00:43 +0000 2017</td>\n",
              "      <td>@sprintcare Since I signed up with you....Sinc...</td>\n",
              "      <td>15</td>\n",
              "      <td>17.0</td>\n",
              "      <td>Since I signed up with you....Since day</td>\n",
              "    </tr>\n",
              "    <tr>\n",
              "      <th>11</th>\n",
              "      <td>17</td>\n",
              "      <td>sprintcare</td>\n",
              "      <td>False</td>\n",
              "      <td>Tue Oct 31 19:59:13 +0000 2017</td>\n",
              "      <td>@115713 H there! We'd definitely like to work ...</td>\n",
              "      <td>16</td>\n",
              "      <td>18.0</td>\n",
              "      <td>H there! We'd definitely like to work with you...</td>\n",
              "    </tr>\n",
              "    <tr>\n",
              "      <th>15</th>\n",
              "      <td>21</td>\n",
              "      <td>Ask_Spectrum</td>\n",
              "      <td>False</td>\n",
              "      <td>Tue Oct 31 22:14:37 +0000 2017</td>\n",
              "      <td>@115716 What information is incorrect? ^JK</td>\n",
              "      <td>22,23</td>\n",
              "      <td>24.0</td>\n",
              "      <td>What information is incorrect? ^JK</td>\n",
              "    </tr>\n",
              "  </tbody>\n",
              "</table>\n",
              "</div>"
            ],
            "text/plain": [
              "    tweet_id  ...                                        clean_tweet\n",
              "0          1  ...  I understand. I would like to assist you. We w...\n",
              "2          3  ...  I have sent several private messages and no on...\n",
              "3          4  ...  Please send us a Private Message so that we ca...\n",
              "4          5  ...                                             I did.\n",
              "5          6  ...  Can you please send us a private message, so t...\n",
              "8         12  ...  You gonna magically change your connectivity f...\n",
              "9         15  ...  We understand your concerns and we'd like for ...\n",
              "10        16  ...            Since I signed up with you....Since day\n",
              "11        17  ...  H there! We'd definitely like to work with you...\n",
              "15        21  ...                 What information is incorrect? ^JK\n",
              "\n",
              "[10 rows x 8 columns]"
            ]
          },
          "metadata": {},
          "execution_count": 9
        }
      ]
    },
    {
      "cell_type": "code",
      "metadata": {
        "id": "236fZCOVs6rx"
      },
      "source": [
        "#first step of preprocessing text data\n",
        "#lowercasing\n",
        "tweets['new_text'] = tweets['clean_tweet'].str.lower()"
      ],
      "execution_count": null,
      "outputs": []
    },
    {
      "cell_type": "code",
      "metadata": {
        "colab": {
          "base_uri": "https://localhost:8080/"
        },
        "id": "tRtRanbJDLC8",
        "outputId": "9a918ab4-fa10-4eb0-9051-d81314b138f2"
      },
      "source": [
        "from google.colab import drive\n",
        "drive.mount('/content/drive')"
      ],
      "execution_count": null,
      "outputs": [
        {
          "output_type": "stream",
          "name": "stdout",
          "text": [
            "Drive already mounted at /content/drive; to attempt to forcibly remount, call drive.mount(\"/content/drive\", force_remount=True).\n"
          ]
        }
      ]
    },
    {
      "cell_type": "code",
      "metadata": {
        "colab": {
          "base_uri": "https://localhost:8080/",
          "height": 402
        },
        "id": "uLzqV5bItIcJ",
        "outputId": "d080238a-7441-4cfa-8ef8-9bde7d95a764"
      },
      "source": [
        "tweets.head()"
      ],
      "execution_count": null,
      "outputs": [
        {
          "output_type": "execute_result",
          "data": {
            "text/html": [
              "<div>\n",
              "<style scoped>\n",
              "    .dataframe tbody tr th:only-of-type {\n",
              "        vertical-align: middle;\n",
              "    }\n",
              "\n",
              "    .dataframe tbody tr th {\n",
              "        vertical-align: top;\n",
              "    }\n",
              "\n",
              "    .dataframe thead th {\n",
              "        text-align: right;\n",
              "    }\n",
              "</style>\n",
              "<table border=\"1\" class=\"dataframe\">\n",
              "  <thead>\n",
              "    <tr style=\"text-align: right;\">\n",
              "      <th></th>\n",
              "      <th>tweet_id</th>\n",
              "      <th>author_id</th>\n",
              "      <th>inbound</th>\n",
              "      <th>created_at</th>\n",
              "      <th>text</th>\n",
              "      <th>response_tweet_id</th>\n",
              "      <th>in_response_to_tweet_id</th>\n",
              "      <th>clean_tweet</th>\n",
              "      <th>new_text</th>\n",
              "    </tr>\n",
              "  </thead>\n",
              "  <tbody>\n",
              "    <tr>\n",
              "      <th>0</th>\n",
              "      <td>1</td>\n",
              "      <td>sprintcare</td>\n",
              "      <td>False</td>\n",
              "      <td>Tue Oct 31 22:10:47 +0000 2017</td>\n",
              "      <td>@115712 I understand. I would like to assist y...</td>\n",
              "      <td>2</td>\n",
              "      <td>3.0</td>\n",
              "      <td>I understand. I would like to assist you. We w...</td>\n",
              "      <td>i understand. i would like to assist you. we w...</td>\n",
              "    </tr>\n",
              "    <tr>\n",
              "      <th>2</th>\n",
              "      <td>3</td>\n",
              "      <td>115712</td>\n",
              "      <td>True</td>\n",
              "      <td>Tue Oct 31 22:08:27 +0000 2017</td>\n",
              "      <td>@sprintcare I have sent several private messag...</td>\n",
              "      <td>1</td>\n",
              "      <td>4.0</td>\n",
              "      <td>I have sent several private messages and no on...</td>\n",
              "      <td>i have sent several private messages and no on...</td>\n",
              "    </tr>\n",
              "    <tr>\n",
              "      <th>3</th>\n",
              "      <td>4</td>\n",
              "      <td>sprintcare</td>\n",
              "      <td>False</td>\n",
              "      <td>Tue Oct 31 21:54:49 +0000 2017</td>\n",
              "      <td>@115712 Please send us a Private Message so th...</td>\n",
              "      <td>3</td>\n",
              "      <td>5.0</td>\n",
              "      <td>Please send us a Private Message so that we ca...</td>\n",
              "      <td>please send us a private message so that we ca...</td>\n",
              "    </tr>\n",
              "    <tr>\n",
              "      <th>4</th>\n",
              "      <td>5</td>\n",
              "      <td>115712</td>\n",
              "      <td>True</td>\n",
              "      <td>Tue Oct 31 21:49:35 +0000 2017</td>\n",
              "      <td>@sprintcare I did.</td>\n",
              "      <td>4</td>\n",
              "      <td>6.0</td>\n",
              "      <td>I did.</td>\n",
              "      <td>i did.</td>\n",
              "    </tr>\n",
              "    <tr>\n",
              "      <th>5</th>\n",
              "      <td>6</td>\n",
              "      <td>sprintcare</td>\n",
              "      <td>False</td>\n",
              "      <td>Tue Oct 31 21:46:24 +0000 2017</td>\n",
              "      <td>@115712 Can you please send us a private messa...</td>\n",
              "      <td>5,7</td>\n",
              "      <td>8.0</td>\n",
              "      <td>Can you please send us a private message, so t...</td>\n",
              "      <td>can you please send us a private message, so t...</td>\n",
              "    </tr>\n",
              "  </tbody>\n",
              "</table>\n",
              "</div>"
            ],
            "text/plain": [
              "   tweet_id  ...                                           new_text\n",
              "0         1  ...  i understand. i would like to assist you. we w...\n",
              "2         3  ...  i have sent several private messages and no on...\n",
              "3         4  ...  please send us a private message so that we ca...\n",
              "4         5  ...                                             i did.\n",
              "5         6  ...  can you please send us a private message, so t...\n",
              "\n",
              "[5 rows x 9 columns]"
            ]
          },
          "metadata": {},
          "execution_count": 12
        }
      ]
    },
    {
      "cell_type": "code",
      "metadata": {
        "id": "PjuonT0AuM9Y"
      },
      "source": [
        "#removing punctuations\n"
      ],
      "execution_count": null,
      "outputs": []
    },
    {
      "cell_type": "code",
      "metadata": {
        "colab": {
          "base_uri": "https://localhost:8080/",
          "height": 805
        },
        "id": "0q_xv-GxegGf",
        "outputId": "feb7101d-04ab-4123-b0f2-7b74933ad56e"
      },
      "source": [
        "tweets['new_text'] = tweets['new_text'].str.replace('[^\\w\\s]','')\n",
        "tweets.head(10)"
      ],
      "execution_count": null,
      "outputs": [
        {
          "output_type": "execute_result",
          "data": {
            "text/html": [
              "<div>\n",
              "<style scoped>\n",
              "    .dataframe tbody tr th:only-of-type {\n",
              "        vertical-align: middle;\n",
              "    }\n",
              "\n",
              "    .dataframe tbody tr th {\n",
              "        vertical-align: top;\n",
              "    }\n",
              "\n",
              "    .dataframe thead th {\n",
              "        text-align: right;\n",
              "    }\n",
              "</style>\n",
              "<table border=\"1\" class=\"dataframe\">\n",
              "  <thead>\n",
              "    <tr style=\"text-align: right;\">\n",
              "      <th></th>\n",
              "      <th>tweet_id</th>\n",
              "      <th>author_id</th>\n",
              "      <th>inbound</th>\n",
              "      <th>created_at</th>\n",
              "      <th>text</th>\n",
              "      <th>response_tweet_id</th>\n",
              "      <th>in_response_to_tweet_id</th>\n",
              "      <th>clean_tweet</th>\n",
              "      <th>new_text</th>\n",
              "    </tr>\n",
              "  </thead>\n",
              "  <tbody>\n",
              "    <tr>\n",
              "      <th>0</th>\n",
              "      <td>1</td>\n",
              "      <td>sprintcare</td>\n",
              "      <td>False</td>\n",
              "      <td>Tue Oct 31 22:10:47 +0000 2017</td>\n",
              "      <td>@115712 I understand. I would like to assist y...</td>\n",
              "      <td>2</td>\n",
              "      <td>3.0</td>\n",
              "      <td>I understand. I would like to assist you. We w...</td>\n",
              "      <td>i understand i would like to assist you we wou...</td>\n",
              "    </tr>\n",
              "    <tr>\n",
              "      <th>2</th>\n",
              "      <td>3</td>\n",
              "      <td>115712</td>\n",
              "      <td>True</td>\n",
              "      <td>Tue Oct 31 22:08:27 +0000 2017</td>\n",
              "      <td>@sprintcare I have sent several private messag...</td>\n",
              "      <td>1</td>\n",
              "      <td>4.0</td>\n",
              "      <td>I have sent several private messages and no on...</td>\n",
              "      <td>i have sent several private messages and no on...</td>\n",
              "    </tr>\n",
              "    <tr>\n",
              "      <th>3</th>\n",
              "      <td>4</td>\n",
              "      <td>sprintcare</td>\n",
              "      <td>False</td>\n",
              "      <td>Tue Oct 31 21:54:49 +0000 2017</td>\n",
              "      <td>@115712 Please send us a Private Message so th...</td>\n",
              "      <td>3</td>\n",
              "      <td>5.0</td>\n",
              "      <td>Please send us a Private Message so that we ca...</td>\n",
              "      <td>please send us a private message so that we ca...</td>\n",
              "    </tr>\n",
              "    <tr>\n",
              "      <th>4</th>\n",
              "      <td>5</td>\n",
              "      <td>115712</td>\n",
              "      <td>True</td>\n",
              "      <td>Tue Oct 31 21:49:35 +0000 2017</td>\n",
              "      <td>@sprintcare I did.</td>\n",
              "      <td>4</td>\n",
              "      <td>6.0</td>\n",
              "      <td>I did.</td>\n",
              "      <td>i did</td>\n",
              "    </tr>\n",
              "    <tr>\n",
              "      <th>5</th>\n",
              "      <td>6</td>\n",
              "      <td>sprintcare</td>\n",
              "      <td>False</td>\n",
              "      <td>Tue Oct 31 21:46:24 +0000 2017</td>\n",
              "      <td>@115712 Can you please send us a private messa...</td>\n",
              "      <td>5,7</td>\n",
              "      <td>8.0</td>\n",
              "      <td>Can you please send us a private message, so t...</td>\n",
              "      <td>can you please send us a private message so th...</td>\n",
              "    </tr>\n",
              "    <tr>\n",
              "      <th>8</th>\n",
              "      <td>12</td>\n",
              "      <td>115713</td>\n",
              "      <td>True</td>\n",
              "      <td>Tue Oct 31 22:04:47 +0000 2017</td>\n",
              "      <td>@sprintcare You gonna magically change your co...</td>\n",
              "      <td>11,13,14</td>\n",
              "      <td>15.0</td>\n",
              "      <td>You gonna magically change your connectivity f...</td>\n",
              "      <td>you gonna magically change your connectivity f...</td>\n",
              "    </tr>\n",
              "    <tr>\n",
              "      <th>9</th>\n",
              "      <td>15</td>\n",
              "      <td>sprintcare</td>\n",
              "      <td>False</td>\n",
              "      <td>Tue Oct 31 20:03:31 +0000 2017</td>\n",
              "      <td>@115713 We understand your concerns and we'd l...</td>\n",
              "      <td>12</td>\n",
              "      <td>16.0</td>\n",
              "      <td>We understand your concerns and we'd like for ...</td>\n",
              "      <td>we understand your concerns and wed like for y...</td>\n",
              "    </tr>\n",
              "    <tr>\n",
              "      <th>10</th>\n",
              "      <td>16</td>\n",
              "      <td>115713</td>\n",
              "      <td>True</td>\n",
              "      <td>Tue Oct 31 20:00:43 +0000 2017</td>\n",
              "      <td>@sprintcare Since I signed up with you....Sinc...</td>\n",
              "      <td>15</td>\n",
              "      <td>17.0</td>\n",
              "      <td>Since I signed up with you....Since day</td>\n",
              "      <td>since i signed up with yousince day</td>\n",
              "    </tr>\n",
              "    <tr>\n",
              "      <th>11</th>\n",
              "      <td>17</td>\n",
              "      <td>sprintcare</td>\n",
              "      <td>False</td>\n",
              "      <td>Tue Oct 31 19:59:13 +0000 2017</td>\n",
              "      <td>@115713 H there! We'd definitely like to work ...</td>\n",
              "      <td>16</td>\n",
              "      <td>18.0</td>\n",
              "      <td>H there! We'd definitely like to work with you...</td>\n",
              "      <td>h there wed definitely like to work with you o...</td>\n",
              "    </tr>\n",
              "    <tr>\n",
              "      <th>15</th>\n",
              "      <td>21</td>\n",
              "      <td>Ask_Spectrum</td>\n",
              "      <td>False</td>\n",
              "      <td>Tue Oct 31 22:14:37 +0000 2017</td>\n",
              "      <td>@115716 What information is incorrect? ^JK</td>\n",
              "      <td>22,23</td>\n",
              "      <td>24.0</td>\n",
              "      <td>What information is incorrect? ^JK</td>\n",
              "      <td>what information is incorrect jk</td>\n",
              "    </tr>\n",
              "  </tbody>\n",
              "</table>\n",
              "</div>"
            ],
            "text/plain": [
              "    tweet_id  ...                                           new_text\n",
              "0          1  ...  i understand i would like to assist you we wou...\n",
              "2          3  ...  i have sent several private messages and no on...\n",
              "3          4  ...  please send us a private message so that we ca...\n",
              "4          5  ...                                              i did\n",
              "5          6  ...  can you please send us a private message so th...\n",
              "8         12  ...  you gonna magically change your connectivity f...\n",
              "9         15  ...  we understand your concerns and wed like for y...\n",
              "10        16  ...                since i signed up with yousince day\n",
              "11        17  ...  h there wed definitely like to work with you o...\n",
              "15        21  ...                   what information is incorrect jk\n",
              "\n",
              "[10 rows x 9 columns]"
            ]
          },
          "metadata": {},
          "execution_count": 14
        }
      ]
    },
    {
      "cell_type": "code",
      "metadata": {
        "colab": {
          "base_uri": "https://localhost:8080/"
        },
        "id": "apa8fj6OwGI5",
        "outputId": "ed67b976-83ed-46df-90a3-51f59cda48df"
      },
      "source": [
        "\n",
        "nltk.download('stopwords')\n",
        "stop = stopwords.words('english')"
      ],
      "execution_count": null,
      "outputs": [
        {
          "output_type": "stream",
          "name": "stdout",
          "text": [
            "[nltk_data] Downloading package stopwords to /root/nltk_data...\n",
            "[nltk_data]   Package stopwords is already up-to-date!\n"
          ]
        }
      ]
    },
    {
      "cell_type": "code",
      "metadata": {
        "id": "tznHIM7ky2w1"
      },
      "source": [
        "#removing stopwords\n",
        "tweets['new_text'] = tweets['new_text'].apply(lambda x: \" \".join(x for x in x.split() if x not in stop))"
      ],
      "execution_count": null,
      "outputs": []
    },
    {
      "cell_type": "code",
      "metadata": {
        "colab": {
          "base_uri": "https://localhost:8080/",
          "height": 822
        },
        "id": "_fpVIUw_7LNc",
        "outputId": "a78dc910-5008-4a38-9c93-2614ec427a3b"
      },
      "source": [
        "tweets.head(10)"
      ],
      "execution_count": null,
      "outputs": [
        {
          "output_type": "execute_result",
          "data": {
            "text/html": [
              "<div>\n",
              "<style scoped>\n",
              "    .dataframe tbody tr th:only-of-type {\n",
              "        vertical-align: middle;\n",
              "    }\n",
              "\n",
              "    .dataframe tbody tr th {\n",
              "        vertical-align: top;\n",
              "    }\n",
              "\n",
              "    .dataframe thead th {\n",
              "        text-align: right;\n",
              "    }\n",
              "</style>\n",
              "<table border=\"1\" class=\"dataframe\">\n",
              "  <thead>\n",
              "    <tr style=\"text-align: right;\">\n",
              "      <th></th>\n",
              "      <th>tweet_id</th>\n",
              "      <th>author_id</th>\n",
              "      <th>inbound</th>\n",
              "      <th>created_at</th>\n",
              "      <th>text</th>\n",
              "      <th>response_tweet_id</th>\n",
              "      <th>in_response_to_tweet_id</th>\n",
              "      <th>clean_tweet</th>\n",
              "      <th>new_text</th>\n",
              "    </tr>\n",
              "  </thead>\n",
              "  <tbody>\n",
              "    <tr>\n",
              "      <th>0</th>\n",
              "      <td>1</td>\n",
              "      <td>sprintcare</td>\n",
              "      <td>False</td>\n",
              "      <td>Tue Oct 31 22:10:47 +0000 2017</td>\n",
              "      <td>@115712 I understand. I would like to assist y...</td>\n",
              "      <td>2</td>\n",
              "      <td>3.0</td>\n",
              "      <td>I understand. I would like to assist you. We w...</td>\n",
              "      <td>understand would like assist would need get pr...</td>\n",
              "    </tr>\n",
              "    <tr>\n",
              "      <th>2</th>\n",
              "      <td>3</td>\n",
              "      <td>115712</td>\n",
              "      <td>True</td>\n",
              "      <td>Tue Oct 31 22:08:27 +0000 2017</td>\n",
              "      <td>@sprintcare I have sent several private messag...</td>\n",
              "      <td>1</td>\n",
              "      <td>4.0</td>\n",
              "      <td>I have sent several private messages and no on...</td>\n",
              "      <td>sent several private messages one responding u...</td>\n",
              "    </tr>\n",
              "    <tr>\n",
              "      <th>3</th>\n",
              "      <td>4</td>\n",
              "      <td>sprintcare</td>\n",
              "      <td>False</td>\n",
              "      <td>Tue Oct 31 21:54:49 +0000 2017</td>\n",
              "      <td>@115712 Please send us a Private Message so th...</td>\n",
              "      <td>3</td>\n",
              "      <td>5.0</td>\n",
              "      <td>Please send us a Private Message so that we ca...</td>\n",
              "      <td>please send us private message assist click me...</td>\n",
              "    </tr>\n",
              "    <tr>\n",
              "      <th>4</th>\n",
              "      <td>5</td>\n",
              "      <td>115712</td>\n",
              "      <td>True</td>\n",
              "      <td>Tue Oct 31 21:49:35 +0000 2017</td>\n",
              "      <td>@sprintcare I did.</td>\n",
              "      <td>4</td>\n",
              "      <td>6.0</td>\n",
              "      <td>I did.</td>\n",
              "      <td></td>\n",
              "    </tr>\n",
              "    <tr>\n",
              "      <th>5</th>\n",
              "      <td>6</td>\n",
              "      <td>sprintcare</td>\n",
              "      <td>False</td>\n",
              "      <td>Tue Oct 31 21:46:24 +0000 2017</td>\n",
              "      <td>@115712 Can you please send us a private messa...</td>\n",
              "      <td>5,7</td>\n",
              "      <td>8.0</td>\n",
              "      <td>Can you please send us a private message, so t...</td>\n",
              "      <td>please send us private message gain details ac...</td>\n",
              "    </tr>\n",
              "    <tr>\n",
              "      <th>8</th>\n",
              "      <td>12</td>\n",
              "      <td>115713</td>\n",
              "      <td>True</td>\n",
              "      <td>Tue Oct 31 22:04:47 +0000 2017</td>\n",
              "      <td>@sprintcare You gonna magically change your co...</td>\n",
              "      <td>11,13,14</td>\n",
              "      <td>15.0</td>\n",
              "      <td>You gonna magically change your connectivity f...</td>\n",
              "      <td>gonna magically change connectivity whole family</td>\n",
              "    </tr>\n",
              "    <tr>\n",
              "      <th>9</th>\n",
              "      <td>15</td>\n",
              "      <td>sprintcare</td>\n",
              "      <td>False</td>\n",
              "      <td>Tue Oct 31 20:03:31 +0000 2017</td>\n",
              "      <td>@115713 We understand your concerns and we'd l...</td>\n",
              "      <td>12</td>\n",
              "      <td>16.0</td>\n",
              "      <td>We understand your concerns and we'd like for ...</td>\n",
              "      <td>understand concerns wed like please send us di...</td>\n",
              "    </tr>\n",
              "    <tr>\n",
              "      <th>10</th>\n",
              "      <td>16</td>\n",
              "      <td>115713</td>\n",
              "      <td>True</td>\n",
              "      <td>Tue Oct 31 20:00:43 +0000 2017</td>\n",
              "      <td>@sprintcare Since I signed up with you....Sinc...</td>\n",
              "      <td>15</td>\n",
              "      <td>17.0</td>\n",
              "      <td>Since I signed up with you....Since day</td>\n",
              "      <td>since signed yousince day</td>\n",
              "    </tr>\n",
              "    <tr>\n",
              "      <th>11</th>\n",
              "      <td>17</td>\n",
              "      <td>sprintcare</td>\n",
              "      <td>False</td>\n",
              "      <td>Tue Oct 31 19:59:13 +0000 2017</td>\n",
              "      <td>@115713 H there! We'd definitely like to work ...</td>\n",
              "      <td>16</td>\n",
              "      <td>18.0</td>\n",
              "      <td>H there! We'd definitely like to work with you...</td>\n",
              "      <td>h wed definitely like work long experiencing i...</td>\n",
              "    </tr>\n",
              "    <tr>\n",
              "      <th>15</th>\n",
              "      <td>21</td>\n",
              "      <td>Ask_Spectrum</td>\n",
              "      <td>False</td>\n",
              "      <td>Tue Oct 31 22:14:37 +0000 2017</td>\n",
              "      <td>@115716 What information is incorrect? ^JK</td>\n",
              "      <td>22,23</td>\n",
              "      <td>24.0</td>\n",
              "      <td>What information is incorrect? ^JK</td>\n",
              "      <td>information incorrect jk</td>\n",
              "    </tr>\n",
              "  </tbody>\n",
              "</table>\n",
              "</div>"
            ],
            "text/plain": [
              "    tweet_id  ...                                           new_text\n",
              "0          1  ...  understand would like assist would need get pr...\n",
              "2          3  ...  sent several private messages one responding u...\n",
              "3          4  ...  please send us private message assist click me...\n",
              "4          5  ...                                                   \n",
              "5          6  ...  please send us private message gain details ac...\n",
              "8         12  ...   gonna magically change connectivity whole family\n",
              "9         15  ...  understand concerns wed like please send us di...\n",
              "10        16  ...                          since signed yousince day\n",
              "11        17  ...  h wed definitely like work long experiencing i...\n",
              "15        21  ...                           information incorrect jk\n",
              "\n",
              "[10 rows x 9 columns]"
            ]
          },
          "metadata": {},
          "execution_count": 17
        }
      ]
    },
    {
      "cell_type": "code",
      "metadata": {
        "id": "rj9I7Bwm3YMM"
      },
      "source": [
        "#using spacy to lemmanize\n",
        "nlp = spacy.load('en', disable=['parser', 'ner'])\n",
        "def space(comment):\n",
        "    doc = nlp(comment)\n",
        "    return \" \".join([token.lemma_ for token in doc])\n",
        "tweets['new_text']= tweets['new_text'].apply(space)"
      ],
      "execution_count": null,
      "outputs": []
    },
    {
      "cell_type": "code",
      "metadata": {
        "colab": {
          "base_uri": "https://localhost:8080/",
          "height": 441
        },
        "id": "ucKCQ68oQzOH",
        "outputId": "d4e3371b-fe64-4a9f-89fa-2859c6d3198d"
      },
      "source": [
        "# nltk.download('punkt')\n",
        "# from nltk.tokenize import word_tokenize\n",
        "# from nltk.stem import  SnowballStemmer\n",
        "\n",
        "# snowball = SnowballStemmer(language = 'english')\n",
        "# text = tweets['new_text']\n",
        "# def stem(data):\n",
        "#   doc = snow\n",
        "#   return \" \".join([snowball.stem for token in tokenized_eu])\n",
        "#   #porter_eu = [snowball.stem(word) for word in tokenized_eu]\n",
        "# tweets['new_text']= tweets['new_text'].apply(stem)\n",
        "# # print(text)"
      ],
      "execution_count": null,
      "outputs": [
        {
          "output_type": "stream",
          "name": "stdout",
          "text": [
            "[nltk_data] Downloading package punkt to /root/nltk_data...\n",
            "[nltk_data]   Package punkt is already up-to-date!\n"
          ]
        },
        {
          "output_type": "error",
          "ename": "TypeError",
          "evalue": "ignored",
          "traceback": [
            "\u001b[0;31m---------------------------------------------------------------------------\u001b[0m",
            "\u001b[0;31mTypeError\u001b[0m                                 Traceback (most recent call last)",
            "\u001b[0;32m<ipython-input-24-dc92dc44f7e4>\u001b[0m in \u001b[0;36m<module>\u001b[0;34m()\u001b[0m\n\u001b[1;32m      9\u001b[0m   \u001b[0;32mreturn\u001b[0m \u001b[0;34m\" \"\u001b[0m\u001b[0;34m.\u001b[0m\u001b[0mjoin\u001b[0m\u001b[0;34m(\u001b[0m\u001b[0;34m[\u001b[0m\u001b[0msnowball\u001b[0m\u001b[0;34m.\u001b[0m\u001b[0mstem\u001b[0m \u001b[0;32mfor\u001b[0m \u001b[0mtoken\u001b[0m \u001b[0;32min\u001b[0m \u001b[0mtokenized_eu\u001b[0m\u001b[0;34m]\u001b[0m\u001b[0;34m)\u001b[0m\u001b[0;34m\u001b[0m\u001b[0;34m\u001b[0m\u001b[0m\n\u001b[1;32m     10\u001b[0m   \u001b[0;31m#porter_eu = [snowball.stem(word) for word in tokenized_eu]\u001b[0m\u001b[0;34m\u001b[0m\u001b[0;34m\u001b[0m\u001b[0;34m\u001b[0m\u001b[0m\n\u001b[0;32m---> 11\u001b[0;31m \u001b[0mtweets\u001b[0m\u001b[0;34m[\u001b[0m\u001b[0;34m'new_text'\u001b[0m\u001b[0;34m]\u001b[0m\u001b[0;34m=\u001b[0m \u001b[0mtweets\u001b[0m\u001b[0;34m[\u001b[0m\u001b[0;34m'new_text'\u001b[0m\u001b[0;34m]\u001b[0m\u001b[0;34m.\u001b[0m\u001b[0mapply\u001b[0m\u001b[0;34m(\u001b[0m\u001b[0mstem\u001b[0m\u001b[0;34m)\u001b[0m\u001b[0;34m\u001b[0m\u001b[0;34m\u001b[0m\u001b[0m\n\u001b[0m\u001b[1;32m     12\u001b[0m \u001b[0;31m# print(text)\u001b[0m\u001b[0;34m\u001b[0m\u001b[0;34m\u001b[0m\u001b[0;34m\u001b[0m\u001b[0m\n",
            "\u001b[0;32m/usr/local/lib/python3.7/dist-packages/pandas/core/series.py\u001b[0m in \u001b[0;36mapply\u001b[0;34m(self, func, convert_dtype, args, **kwds)\u001b[0m\n\u001b[1;32m   4211\u001b[0m             \u001b[0;32melse\u001b[0m\u001b[0;34m:\u001b[0m\u001b[0;34m\u001b[0m\u001b[0;34m\u001b[0m\u001b[0m\n\u001b[1;32m   4212\u001b[0m                 \u001b[0mvalues\u001b[0m \u001b[0;34m=\u001b[0m \u001b[0mself\u001b[0m\u001b[0;34m.\u001b[0m\u001b[0mastype\u001b[0m\u001b[0;34m(\u001b[0m\u001b[0mobject\u001b[0m\u001b[0;34m)\u001b[0m\u001b[0;34m.\u001b[0m\u001b[0m_values\u001b[0m\u001b[0;34m\u001b[0m\u001b[0;34m\u001b[0m\u001b[0m\n\u001b[0;32m-> 4213\u001b[0;31m                 \u001b[0mmapped\u001b[0m \u001b[0;34m=\u001b[0m \u001b[0mlib\u001b[0m\u001b[0;34m.\u001b[0m\u001b[0mmap_infer\u001b[0m\u001b[0;34m(\u001b[0m\u001b[0mvalues\u001b[0m\u001b[0;34m,\u001b[0m \u001b[0mf\u001b[0m\u001b[0;34m,\u001b[0m \u001b[0mconvert\u001b[0m\u001b[0;34m=\u001b[0m\u001b[0mconvert_dtype\u001b[0m\u001b[0;34m)\u001b[0m\u001b[0;34m\u001b[0m\u001b[0;34m\u001b[0m\u001b[0m\n\u001b[0m\u001b[1;32m   4214\u001b[0m \u001b[0;34m\u001b[0m\u001b[0m\n\u001b[1;32m   4215\u001b[0m         \u001b[0;32mif\u001b[0m \u001b[0mlen\u001b[0m\u001b[0;34m(\u001b[0m\u001b[0mmapped\u001b[0m\u001b[0;34m)\u001b[0m \u001b[0;32mand\u001b[0m \u001b[0misinstance\u001b[0m\u001b[0;34m(\u001b[0m\u001b[0mmapped\u001b[0m\u001b[0;34m[\u001b[0m\u001b[0;36m0\u001b[0m\u001b[0;34m]\u001b[0m\u001b[0;34m,\u001b[0m \u001b[0mSeries\u001b[0m\u001b[0;34m)\u001b[0m\u001b[0;34m:\u001b[0m\u001b[0;34m\u001b[0m\u001b[0;34m\u001b[0m\u001b[0m\n",
            "\u001b[0;32mpandas/_libs/lib.pyx\u001b[0m in \u001b[0;36mpandas._libs.lib.map_infer\u001b[0;34m()\u001b[0m\n",
            "\u001b[0;32m<ipython-input-24-dc92dc44f7e4>\u001b[0m in \u001b[0;36mstem\u001b[0;34m(data)\u001b[0m\n\u001b[1;32m      7\u001b[0m \u001b[0;32mdef\u001b[0m \u001b[0mstem\u001b[0m\u001b[0;34m(\u001b[0m\u001b[0mdata\u001b[0m\u001b[0;34m)\u001b[0m\u001b[0;34m:\u001b[0m\u001b[0;34m\u001b[0m\u001b[0;34m\u001b[0m\u001b[0m\n\u001b[1;32m      8\u001b[0m   \u001b[0mtokenized_eu\u001b[0m \u001b[0;34m=\u001b[0m \u001b[0mword_tokenize\u001b[0m\u001b[0;34m(\u001b[0m\u001b[0mdata\u001b[0m\u001b[0;34m)\u001b[0m\u001b[0;34m\u001b[0m\u001b[0;34m\u001b[0m\u001b[0m\n\u001b[0;32m----> 9\u001b[0;31m   \u001b[0;32mreturn\u001b[0m \u001b[0;34m\" \"\u001b[0m\u001b[0;34m.\u001b[0m\u001b[0mjoin\u001b[0m\u001b[0;34m(\u001b[0m\u001b[0;34m[\u001b[0m\u001b[0msnowball\u001b[0m\u001b[0;34m.\u001b[0m\u001b[0mstem\u001b[0m \u001b[0;32mfor\u001b[0m \u001b[0mtoken\u001b[0m \u001b[0;32min\u001b[0m \u001b[0mtokenized_eu\u001b[0m\u001b[0;34m]\u001b[0m\u001b[0;34m)\u001b[0m\u001b[0;34m\u001b[0m\u001b[0;34m\u001b[0m\u001b[0m\n\u001b[0m\u001b[1;32m     10\u001b[0m   \u001b[0;31m#porter_eu = [snowball.stem(word) for word in tokenized_eu]\u001b[0m\u001b[0;34m\u001b[0m\u001b[0;34m\u001b[0m\u001b[0;34m\u001b[0m\u001b[0m\n\u001b[1;32m     11\u001b[0m \u001b[0mtweets\u001b[0m\u001b[0;34m[\u001b[0m\u001b[0;34m'new_text'\u001b[0m\u001b[0;34m]\u001b[0m\u001b[0;34m=\u001b[0m \u001b[0mtweets\u001b[0m\u001b[0;34m[\u001b[0m\u001b[0;34m'new_text'\u001b[0m\u001b[0;34m]\u001b[0m\u001b[0;34m.\u001b[0m\u001b[0mapply\u001b[0m\u001b[0;34m(\u001b[0m\u001b[0mstem\u001b[0m\u001b[0;34m)\u001b[0m\u001b[0;34m\u001b[0m\u001b[0;34m\u001b[0m\u001b[0m\n",
            "\u001b[0;31mTypeError\u001b[0m: sequence item 0: expected str instance, method found"
          ]
        }
      ]
    },
    {
      "cell_type": "code",
      "metadata": {
        "id": "JXqZ6bXF3pjZ"
      },
      "source": [
        "tweets.head(10)"
      ],
      "execution_count": null,
      "outputs": []
    },
    {
      "cell_type": "code",
      "metadata": {
        "id": "Sv6ap4cv7cTd"
      },
      "source": [
        "#removal of stopwords\n",
        "\n",
        "cleaned_text = tweets['new_text']\n",
        "cleaned_text.to_csv('cleaned_text.csv')"
      ],
      "execution_count": null,
      "outputs": []
    },
    {
      "cell_type": "code",
      "metadata": {
        "id": "YubvM8Hfg4bc"
      },
      "source": [
        "nltk.download('punkt')\n",
        "#finding out the most frequently used words\n",
        "line = tweets['new_text'].str.cat(sep=' ')\n",
        "print(line)\n",
        "words = nltk.tokenize.word_tokenize(line)\n",
        "word_dist = nltk.FreqDist(words)\n",
        "dff = pd.DataFrame(word_dist.most_common(), \n",
        "                    columns=['Word', 'Frequency'])\n",
        "dff['Word_Count'] = dff.Word.apply(len)\n",
        "dff.head(20)"
      ],
      "execution_count": null,
      "outputs": []
    },
    {
      "cell_type": "code",
      "metadata": {
        "id": "aXIBGfXKepN9"
      },
      "source": [
        "nltk.download('vader_lexicon')\n",
        "from nltk.sentiment.vader import SentimentIntensityAnalyzer\n",
        "from nltk.sentiment.util import *\n",
        "#Sentiment Analysis\n",
        "SIA = SentimentIntensityAnalyzer()\n",
        "tweets[\"new_text\"]= tweets[\"new_text\"].astype(str)\n",
        "# Applying Model, Variable Creation\n",
        "tweets['Polarity Score']=tweets[\"new_text\"].apply(lambda x:SIA.polarity_scores(x)['compound'])\n",
        "tweets['Neutral Score']=tweets[\"new_text\"].apply(lambda x:SIA.polarity_scores(x)['neu'])\n",
        "tweets['Negative Score']=tweets[\"new_text\"].apply(lambda x:SIA.polarity_scores(x)['neg'])\n",
        "tweets['Positive Score']=tweets[\"new_text\"].apply(lambda x:SIA.polarity_scores(x)['pos'])\n",
        "# Converting 0 to 1 Decimal Score to a Categorical Variable\n",
        "tweets['Sentiment']=''\n",
        "tweets.loc[tweets['Polarity Score']>0,'Sentiment']='Positive'\n",
        "tweets.loc[tweets['Polarity Score']==0,'Sentiment']='Neutral'\n",
        "tweets.loc[tweets['Polarity Score']<0,'Sentiment']='Negative'"
      ],
      "execution_count": null,
      "outputs": []
    },
    {
      "cell_type": "code",
      "metadata": {
        "colab": {
          "base_uri": "https://localhost:8080/",
          "height": 1000
        },
        "id": "yySNSx20eoz5",
        "outputId": "9549c584-6aec-490b-f675-92d5863a453e"
      },
      "source": [
        "tweets.head(20)"
      ],
      "execution_count": null,
      "outputs": [
        {
          "output_type": "execute_result",
          "data": {
            "text/html": [
              "<div>\n",
              "<style scoped>\n",
              "    .dataframe tbody tr th:only-of-type {\n",
              "        vertical-align: middle;\n",
              "    }\n",
              "\n",
              "    .dataframe tbody tr th {\n",
              "        vertical-align: top;\n",
              "    }\n",
              "\n",
              "    .dataframe thead th {\n",
              "        text-align: right;\n",
              "    }\n",
              "</style>\n",
              "<table border=\"1\" class=\"dataframe\">\n",
              "  <thead>\n",
              "    <tr style=\"text-align: right;\">\n",
              "      <th></th>\n",
              "      <th>tweet_id</th>\n",
              "      <th>author_id</th>\n",
              "      <th>inbound</th>\n",
              "      <th>created_at</th>\n",
              "      <th>text</th>\n",
              "      <th>response_tweet_id</th>\n",
              "      <th>in_response_to_tweet_id</th>\n",
              "      <th>clean_tweet</th>\n",
              "      <th>new_text</th>\n",
              "      <th>Polarity Score</th>\n",
              "      <th>Neutral Score</th>\n",
              "      <th>Negative Score</th>\n",
              "      <th>Positive Score</th>\n",
              "      <th>Sentiment</th>\n",
              "    </tr>\n",
              "  </thead>\n",
              "  <tbody>\n",
              "    <tr>\n",
              "      <th>0</th>\n",
              "      <td>1</td>\n",
              "      <td>sprintcare</td>\n",
              "      <td>False</td>\n",
              "      <td>Tue Oct 31 22:10:47 +0000 2017</td>\n",
              "      <td>@115712 I understand. I would like to assist y...</td>\n",
              "      <td>2</td>\n",
              "      <td>3.0</td>\n",
              "      <td>I understand. I would like to assist you. We w...</td>\n",
              "      <td>understand would like assist would need get pr...</td>\n",
              "      <td>0.5994</td>\n",
              "      <td>0.647</td>\n",
              "      <td>0.000</td>\n",
              "      <td>0.353</td>\n",
              "      <td>Positive</td>\n",
              "    </tr>\n",
              "    <tr>\n",
              "      <th>2</th>\n",
              "      <td>3</td>\n",
              "      <td>115712</td>\n",
              "      <td>True</td>\n",
              "      <td>Tue Oct 31 22:08:27 +0000 2017</td>\n",
              "      <td>@sprintcare I have sent several private messag...</td>\n",
              "      <td>1</td>\n",
              "      <td>4.0</td>\n",
              "      <td>I have sent several private messages and no on...</td>\n",
              "      <td>send several private message one respond usual</td>\n",
              "      <td>0.0000</td>\n",
              "      <td>1.000</td>\n",
              "      <td>0.000</td>\n",
              "      <td>0.000</td>\n",
              "      <td>Neutral</td>\n",
              "    </tr>\n",
              "    <tr>\n",
              "      <th>3</th>\n",
              "      <td>4</td>\n",
              "      <td>sprintcare</td>\n",
              "      <td>False</td>\n",
              "      <td>Tue Oct 31 21:54:49 +0000 2017</td>\n",
              "      <td>@115712 Please send us a Private Message so th...</td>\n",
              "      <td>3</td>\n",
              "      <td>5.0</td>\n",
              "      <td>Please send us a Private Message so that we ca...</td>\n",
              "      <td>please send -PRON- private message assist clic...</td>\n",
              "      <td>0.4767</td>\n",
              "      <td>0.661</td>\n",
              "      <td>0.000</td>\n",
              "      <td>0.339</td>\n",
              "      <td>Positive</td>\n",
              "    </tr>\n",
              "    <tr>\n",
              "      <th>4</th>\n",
              "      <td>5</td>\n",
              "      <td>115712</td>\n",
              "      <td>True</td>\n",
              "      <td>Tue Oct 31 21:49:35 +0000 2017</td>\n",
              "      <td>@sprintcare I did.</td>\n",
              "      <td>4</td>\n",
              "      <td>6.0</td>\n",
              "      <td>I did.</td>\n",
              "      <td></td>\n",
              "      <td>0.0000</td>\n",
              "      <td>0.000</td>\n",
              "      <td>0.000</td>\n",
              "      <td>0.000</td>\n",
              "      <td>Neutral</td>\n",
              "    </tr>\n",
              "    <tr>\n",
              "      <th>5</th>\n",
              "      <td>6</td>\n",
              "      <td>sprintcare</td>\n",
              "      <td>False</td>\n",
              "      <td>Tue Oct 31 21:46:24 +0000 2017</td>\n",
              "      <td>@115712 Can you please send us a private messa...</td>\n",
              "      <td>5,7</td>\n",
              "      <td>8.0</td>\n",
              "      <td>Can you please send us a private message, so t...</td>\n",
              "      <td>please send -PRON- private message gain detail...</td>\n",
              "      <td>0.6908</td>\n",
              "      <td>0.513</td>\n",
              "      <td>0.000</td>\n",
              "      <td>0.487</td>\n",
              "      <td>Positive</td>\n",
              "    </tr>\n",
              "    <tr>\n",
              "      <th>8</th>\n",
              "      <td>12</td>\n",
              "      <td>115713</td>\n",
              "      <td>True</td>\n",
              "      <td>Tue Oct 31 22:04:47 +0000 2017</td>\n",
              "      <td>@sprintcare You gonna magically change your co...</td>\n",
              "      <td>11,13,14</td>\n",
              "      <td>15.0</td>\n",
              "      <td>You gonna magically change your connectivity f...</td>\n",
              "      <td>go to magically change connectivity whole family</td>\n",
              "      <td>0.0000</td>\n",
              "      <td>1.000</td>\n",
              "      <td>0.000</td>\n",
              "      <td>0.000</td>\n",
              "      <td>Neutral</td>\n",
              "    </tr>\n",
              "    <tr>\n",
              "      <th>9</th>\n",
              "      <td>15</td>\n",
              "      <td>sprintcare</td>\n",
              "      <td>False</td>\n",
              "      <td>Tue Oct 31 20:03:31 +0000 2017</td>\n",
              "      <td>@115713 We understand your concerns and we'd l...</td>\n",
              "      <td>12</td>\n",
              "      <td>16.0</td>\n",
              "      <td>We understand your concerns and we'd like for ...</td>\n",
              "      <td>understand concern -PRON- would like please se...</td>\n",
              "      <td>0.5859</td>\n",
              "      <td>0.676</td>\n",
              "      <td>0.000</td>\n",
              "      <td>0.324</td>\n",
              "      <td>Positive</td>\n",
              "    </tr>\n",
              "    <tr>\n",
              "      <th>10</th>\n",
              "      <td>16</td>\n",
              "      <td>115713</td>\n",
              "      <td>True</td>\n",
              "      <td>Tue Oct 31 20:00:43 +0000 2017</td>\n",
              "      <td>@sprintcare Since I signed up with you....Sinc...</td>\n",
              "      <td>15</td>\n",
              "      <td>17.0</td>\n",
              "      <td>Since I signed up with you....Since day</td>\n",
              "      <td>since sign yousince day</td>\n",
              "      <td>0.0000</td>\n",
              "      <td>1.000</td>\n",
              "      <td>0.000</td>\n",
              "      <td>0.000</td>\n",
              "      <td>Neutral</td>\n",
              "    </tr>\n",
              "    <tr>\n",
              "      <th>11</th>\n",
              "      <td>17</td>\n",
              "      <td>sprintcare</td>\n",
              "      <td>False</td>\n",
              "      <td>Tue Oct 31 19:59:13 +0000 2017</td>\n",
              "      <td>@115713 H there! We'd definitely like to work ...</td>\n",
              "      <td>16</td>\n",
              "      <td>18.0</td>\n",
              "      <td>H there! We'd definitely like to work with you...</td>\n",
              "      <td>h -PRON- would definitely like work long exper...</td>\n",
              "      <td>0.6369</td>\n",
              "      <td>0.574</td>\n",
              "      <td>0.000</td>\n",
              "      <td>0.426</td>\n",
              "      <td>Positive</td>\n",
              "    </tr>\n",
              "    <tr>\n",
              "      <th>15</th>\n",
              "      <td>21</td>\n",
              "      <td>Ask_Spectrum</td>\n",
              "      <td>False</td>\n",
              "      <td>Tue Oct 31 22:14:37 +0000 2017</td>\n",
              "      <td>@115716 What information is incorrect? ^JK</td>\n",
              "      <td>22,23</td>\n",
              "      <td>24.0</td>\n",
              "      <td>What information is incorrect? ^JK</td>\n",
              "      <td>information incorrect jk</td>\n",
              "      <td>0.2263</td>\n",
              "      <td>0.513</td>\n",
              "      <td>0.000</td>\n",
              "      <td>0.487</td>\n",
              "      <td>Positive</td>\n",
              "    </tr>\n",
              "    <tr>\n",
              "      <th>16</th>\n",
              "      <td>22</td>\n",
              "      <td>115716</td>\n",
              "      <td>True</td>\n",
              "      <td>Tue Oct 31 22:16:48 +0000 2017</td>\n",
              "      <td>@Ask_Spectrum Would you like me to email you a...</td>\n",
              "      <td>25</td>\n",
              "      <td>21.0</td>\n",
              "      <td>Would you like me to email you a copy of one s...</td>\n",
              "      <td>would like email copy one since spectrum updat...</td>\n",
              "      <td>0.3612</td>\n",
              "      <td>0.762</td>\n",
              "      <td>0.000</td>\n",
              "      <td>0.238</td>\n",
              "      <td>Positive</td>\n",
              "    </tr>\n",
              "    <tr>\n",
              "      <th>17</th>\n",
              "      <td>25</td>\n",
              "      <td>Ask_Spectrum</td>\n",
              "      <td>False</td>\n",
              "      <td>Tue Oct 31 22:18:28 +0000 2017</td>\n",
              "      <td>@115716 Our department is part of the corporat...</td>\n",
              "      <td>26</td>\n",
              "      <td>22.0</td>\n",
              "      <td>Our department is part of the corporate office...</td>\n",
              "      <td>department part corporate office -PRON- be par...</td>\n",
              "      <td>0.0000</td>\n",
              "      <td>1.000</td>\n",
              "      <td>0.000</td>\n",
              "      <td>0.000</td>\n",
              "      <td>Neutral</td>\n",
              "    </tr>\n",
              "    <tr>\n",
              "      <th>18</th>\n",
              "      <td>26</td>\n",
              "      <td>115716</td>\n",
              "      <td>True</td>\n",
              "      <td>Tue Oct 31 22:19:56 +0000 2017</td>\n",
              "      <td>@Ask_Spectrum I received this from your corpor...</td>\n",
              "      <td>27</td>\n",
              "      <td>25.0</td>\n",
              "      <td>I received this from your corporate office wou...</td>\n",
              "      <td>receive corporate office would like copy</td>\n",
              "      <td>0.3612</td>\n",
              "      <td>0.667</td>\n",
              "      <td>0.000</td>\n",
              "      <td>0.333</td>\n",
              "      <td>Positive</td>\n",
              "    </tr>\n",
              "    <tr>\n",
              "      <th>21</th>\n",
              "      <td>24</td>\n",
              "      <td>115716</td>\n",
              "      <td>True</td>\n",
              "      <td>Tue Oct 31 22:13:02 +0000 2017</td>\n",
              "      <td>@Ask_Spectrum That is INCORRECT information I ...</td>\n",
              "      <td>21</td>\n",
              "      <td>28.0</td>\n",
              "      <td>That is INCORRECT information I have the form ...</td>\n",
              "      <td>incorrect information form front fax overmaybe...</td>\n",
              "      <td>0.0000</td>\n",
              "      <td>1.000</td>\n",
              "      <td>0.000</td>\n",
              "      <td>0.000</td>\n",
              "      <td>Neutral</td>\n",
              "    </tr>\n",
              "    <tr>\n",
              "      <th>22</th>\n",
              "      <td>28</td>\n",
              "      <td>Ask_Spectrum</td>\n",
              "      <td>False</td>\n",
              "      <td>Tue Oct 31 22:05:37 +0000 2017</td>\n",
              "      <td>@115716 The information pertaining to the acco...</td>\n",
              "      <td>24</td>\n",
              "      <td>29.0</td>\n",
              "      <td>The information pertaining to the account assu...</td>\n",
              "      <td>information pertain account assumption correct...</td>\n",
              "      <td>0.0000</td>\n",
              "      <td>1.000</td>\n",
              "      <td>0.000</td>\n",
              "      <td>0.000</td>\n",
              "      <td>Neutral</td>\n",
              "    </tr>\n",
              "    <tr>\n",
              "      <th>28</th>\n",
              "      <td>34</td>\n",
              "      <td>VerizonSupport</td>\n",
              "      <td>False</td>\n",
              "      <td>Tue Oct 31 22:13:33 +0000 2017</td>\n",
              "      <td>@115719 Help has arrived! We are sorry to see ...</td>\n",
              "      <td>35</td>\n",
              "      <td>36.0</td>\n",
              "      <td>Help has arrived! We are sorry to see that you...</td>\n",
              "      <td>help arrive sorry see trouble helphsb</td>\n",
              "      <td>-0.0772</td>\n",
              "      <td>0.309</td>\n",
              "      <td>0.412</td>\n",
              "      <td>0.278</td>\n",
              "      <td>Negative</td>\n",
              "    </tr>\n",
              "    <tr>\n",
              "      <th>29</th>\n",
              "      <td>35</td>\n",
              "      <td>115719</td>\n",
              "      <td>True</td>\n",
              "      <td>Tue Oct 31 22:49:16 +0000 2017</td>\n",
              "      <td>@VerizonSupport I finally got someone that hel...</td>\n",
              "      <td>37</td>\n",
              "      <td>34.0</td>\n",
              "      <td>I finally got someone that helped me, thanks!</td>\n",
              "      <td>finally get someone help thank</td>\n",
              "      <td>0.6369</td>\n",
              "      <td>0.366</td>\n",
              "      <td>0.000</td>\n",
              "      <td>0.634</td>\n",
              "      <td>Positive</td>\n",
              "    </tr>\n",
              "    <tr>\n",
              "      <th>34</th>\n",
              "      <td>40</td>\n",
              "      <td>VerizonSupport</td>\n",
              "      <td>False</td>\n",
              "      <td>Tue Oct 31 22:12:00 +0000 2017</td>\n",
              "      <td>@115721 Please follow and DM us so that we can...</td>\n",
              "      <td>41</td>\n",
              "      <td>42.0</td>\n",
              "      <td>Please follow and DM us so that we can look in...</td>\n",
              "      <td>please follow dm -PRON- look order hsb</td>\n",
              "      <td>0.3182</td>\n",
              "      <td>0.723</td>\n",
              "      <td>0.000</td>\n",
              "      <td>0.277</td>\n",
              "      <td>Positive</td>\n",
              "    </tr>\n",
              "    <tr>\n",
              "      <th>35</th>\n",
              "      <td>41</td>\n",
              "      <td>115721</td>\n",
              "      <td>True</td>\n",
              "      <td>Tue Oct 31 22:24:55 +0000 2017</td>\n",
              "      <td>@VerizonSupport What else can I provide? They ...</td>\n",
              "      <td>43</td>\n",
              "      <td>40.0</td>\n",
              "      <td>What else can I provide? They refuse to help m...</td>\n",
              "      <td>else provide refuse help can not validate account</td>\n",
              "      <td>-0.1556</td>\n",
              "      <td>0.416</td>\n",
              "      <td>0.359</td>\n",
              "      <td>0.225</td>\n",
              "      <td>Negative</td>\n",
              "    </tr>\n",
              "    <tr>\n",
              "      <th>36</th>\n",
              "      <td>43</td>\n",
              "      <td>VerizonSupport</td>\n",
              "      <td>False</td>\n",
              "      <td>Tue Oct 31 22:29:00 +0000 2017</td>\n",
              "      <td>@115721 We would not be able to verify anythin...</td>\n",
              "      <td>44</td>\n",
              "      <td>41.0</td>\n",
              "      <td>We would not be able to verify anything withou...</td>\n",
              "      <td>would able verify anything without authenticat...</td>\n",
              "      <td>0.0000</td>\n",
              "      <td>1.000</td>\n",
              "      <td>0.000</td>\n",
              "      <td>0.000</td>\n",
              "      <td>Neutral</td>\n",
              "    </tr>\n",
              "  </tbody>\n",
              "</table>\n",
              "</div>"
            ],
            "text/plain": [
              "    tweet_id       author_id  inbound  ... Negative Score Positive Score Sentiment\n",
              "0          1      sprintcare    False  ...          0.000          0.353  Positive\n",
              "2          3          115712     True  ...          0.000          0.000   Neutral\n",
              "3          4      sprintcare    False  ...          0.000          0.339  Positive\n",
              "4          5          115712     True  ...          0.000          0.000   Neutral\n",
              "5          6      sprintcare    False  ...          0.000          0.487  Positive\n",
              "8         12          115713     True  ...          0.000          0.000   Neutral\n",
              "9         15      sprintcare    False  ...          0.000          0.324  Positive\n",
              "10        16          115713     True  ...          0.000          0.000   Neutral\n",
              "11        17      sprintcare    False  ...          0.000          0.426  Positive\n",
              "15        21    Ask_Spectrum    False  ...          0.000          0.487  Positive\n",
              "16        22          115716     True  ...          0.000          0.238  Positive\n",
              "17        25    Ask_Spectrum    False  ...          0.000          0.000   Neutral\n",
              "18        26          115716     True  ...          0.000          0.333  Positive\n",
              "21        24          115716     True  ...          0.000          0.000   Neutral\n",
              "22        28    Ask_Spectrum    False  ...          0.000          0.000   Neutral\n",
              "28        34  VerizonSupport    False  ...          0.412          0.278  Negative\n",
              "29        35          115719     True  ...          0.000          0.634  Positive\n",
              "34        40  VerizonSupport    False  ...          0.000          0.277  Positive\n",
              "35        41          115721     True  ...          0.359          0.225  Negative\n",
              "36        43  VerizonSupport    False  ...          0.000          0.000   Neutral\n",
              "\n",
              "[20 rows x 14 columns]"
            ]
          },
          "metadata": {},
          "execution_count": 23
        }
      ]
    },
    {
      "cell_type": "code",
      "metadata": {
        "colab": {
          "base_uri": "https://localhost:8080/"
        },
        "id": "gbhF6FGDeobb",
        "outputId": "d93b60cf-9ea6-409c-9a21-c2bc67455816"
      },
      "source": [
        " tweets['Sentiment'].value_counts()"
      ],
      "execution_count": null,
      "outputs": [
        {
          "output_type": "execute_result",
          "data": {
            "text/plain": [
              "Positive    507629\n",
              "Neutral     276558\n",
              "Negative    192623\n",
              "Name: Sentiment, dtype: int64"
            ]
          },
          "metadata": {},
          "execution_count": 24
        }
      ]
    },
    {
      "cell_type": "code",
      "metadata": {
        "colab": {
          "base_uri": "https://localhost:8080/",
          "height": 414
        },
        "id": "8NCHXcOhNH_C",
        "outputId": "5471418d-1dff-4f1e-9d28-9b44c7d6b8c6"
      },
      "source": [
        "data = tweets[['Sentiment','new_text']]\n",
        "data"
      ],
      "execution_count": null,
      "outputs": [
        {
          "output_type": "execute_result",
          "data": {
            "text/html": [
              "<div>\n",
              "<style scoped>\n",
              "    .dataframe tbody tr th:only-of-type {\n",
              "        vertical-align: middle;\n",
              "    }\n",
              "\n",
              "    .dataframe tbody tr th {\n",
              "        vertical-align: top;\n",
              "    }\n",
              "\n",
              "    .dataframe thead th {\n",
              "        text-align: right;\n",
              "    }\n",
              "</style>\n",
              "<table border=\"1\" class=\"dataframe\">\n",
              "  <thead>\n",
              "    <tr style=\"text-align: right;\">\n",
              "      <th></th>\n",
              "      <th>Sentiment</th>\n",
              "      <th>new_text</th>\n",
              "    </tr>\n",
              "  </thead>\n",
              "  <tbody>\n",
              "    <tr>\n",
              "      <th>0</th>\n",
              "      <td>Positive</td>\n",
              "      <td>understand would like assist would need get pr...</td>\n",
              "    </tr>\n",
              "    <tr>\n",
              "      <th>2</th>\n",
              "      <td>Neutral</td>\n",
              "      <td>send several private message one respond usual</td>\n",
              "    </tr>\n",
              "    <tr>\n",
              "      <th>3</th>\n",
              "      <td>Positive</td>\n",
              "      <td>please send -PRON- private message assist clic...</td>\n",
              "    </tr>\n",
              "    <tr>\n",
              "      <th>4</th>\n",
              "      <td>Neutral</td>\n",
              "      <td></td>\n",
              "    </tr>\n",
              "    <tr>\n",
              "      <th>5</th>\n",
              "      <td>Positive</td>\n",
              "      <td>please send -PRON- private message gain detail...</td>\n",
              "    </tr>\n",
              "    <tr>\n",
              "      <th>...</th>\n",
              "      <td>...</td>\n",
              "      <td>...</td>\n",
              "    </tr>\n",
              "    <tr>\n",
              "      <th>2811718</th>\n",
              "      <td>Negative</td>\n",
              "      <td>sorry hear james staff make way however feed b...</td>\n",
              "    </tr>\n",
              "    <tr>\n",
              "      <th>2811728</th>\n",
              "      <td>Neutral</td>\n",
              "      <td>london bind trains route bromley south amp lon...</td>\n",
              "    </tr>\n",
              "    <tr>\n",
              "      <th>2811736</th>\n",
              "      <td>Positive</td>\n",
              "      <td>hello sound good dm account name complete serv...</td>\n",
              "    </tr>\n",
              "    <tr>\n",
              "      <th>2811739</th>\n",
              "      <td>Negative</td>\n",
              "      <td>hi natalie do not sound good follow -PRON- dm ...</td>\n",
              "    </tr>\n",
              "    <tr>\n",
              "      <th>2811760</th>\n",
              "      <td>Negative</td>\n",
              "      <td>hi apologie inconvenience backlog queue due ma...</td>\n",
              "    </tr>\n",
              "  </tbody>\n",
              "</table>\n",
              "<p>976810 rows × 2 columns</p>\n",
              "</div>"
            ],
            "text/plain": [
              "        Sentiment                                           new_text\n",
              "0        Positive  understand would like assist would need get pr...\n",
              "2         Neutral     send several private message one respond usual\n",
              "3        Positive  please send -PRON- private message assist clic...\n",
              "4         Neutral                                                   \n",
              "5        Positive  please send -PRON- private message gain detail...\n",
              "...           ...                                                ...\n",
              "2811718  Negative  sorry hear james staff make way however feed b...\n",
              "2811728   Neutral  london bind trains route bromley south amp lon...\n",
              "2811736  Positive  hello sound good dm account name complete serv...\n",
              "2811739  Negative  hi natalie do not sound good follow -PRON- dm ...\n",
              "2811760  Negative  hi apologie inconvenience backlog queue due ma...\n",
              "\n",
              "[976810 rows x 2 columns]"
            ]
          },
          "metadata": {},
          "execution_count": 25
        }
      ]
    },
    {
      "cell_type": "code",
      "metadata": {
        "id": "0Njs-_0yeoOr"
      },
      "source": [
        "data = data.replace({'Neutral':0,'Negative':1,'Positive':2})"
      ],
      "execution_count": null,
      "outputs": []
    },
    {
      "cell_type": "code",
      "metadata": {
        "colab": {
          "base_uri": "https://localhost:8080/",
          "height": 202
        },
        "id": "6dTl0dMd-FzN",
        "outputId": "f2acfd52-11f7-4e33-d5fa-137da02f1056"
      },
      "source": [
        "data.head()"
      ],
      "execution_count": null,
      "outputs": [
        {
          "output_type": "execute_result",
          "data": {
            "text/html": [
              "<div>\n",
              "<style scoped>\n",
              "    .dataframe tbody tr th:only-of-type {\n",
              "        vertical-align: middle;\n",
              "    }\n",
              "\n",
              "    .dataframe tbody tr th {\n",
              "        vertical-align: top;\n",
              "    }\n",
              "\n",
              "    .dataframe thead th {\n",
              "        text-align: right;\n",
              "    }\n",
              "</style>\n",
              "<table border=\"1\" class=\"dataframe\">\n",
              "  <thead>\n",
              "    <tr style=\"text-align: right;\">\n",
              "      <th></th>\n",
              "      <th>Sentiment</th>\n",
              "      <th>new_text</th>\n",
              "    </tr>\n",
              "  </thead>\n",
              "  <tbody>\n",
              "    <tr>\n",
              "      <th>0</th>\n",
              "      <td>2</td>\n",
              "      <td>understand would like assist would need get pr...</td>\n",
              "    </tr>\n",
              "    <tr>\n",
              "      <th>2</th>\n",
              "      <td>0</td>\n",
              "      <td>send several private message one respond usual</td>\n",
              "    </tr>\n",
              "    <tr>\n",
              "      <th>3</th>\n",
              "      <td>2</td>\n",
              "      <td>please send -PRON- private message assist clic...</td>\n",
              "    </tr>\n",
              "    <tr>\n",
              "      <th>4</th>\n",
              "      <td>0</td>\n",
              "      <td></td>\n",
              "    </tr>\n",
              "    <tr>\n",
              "      <th>5</th>\n",
              "      <td>2</td>\n",
              "      <td>please send -PRON- private message gain detail...</td>\n",
              "    </tr>\n",
              "  </tbody>\n",
              "</table>\n",
              "</div>"
            ],
            "text/plain": [
              "   Sentiment                                           new_text\n",
              "0          2  understand would like assist would need get pr...\n",
              "2          0     send several private message one respond usual\n",
              "3          2  please send -PRON- private message assist clic...\n",
              "4          0                                                   \n",
              "5          2  please send -PRON- private message gain detail..."
            ]
          },
          "metadata": {},
          "execution_count": 27
        }
      ]
    },
    {
      "cell_type": "code",
      "metadata": {
        "colab": {
          "base_uri": "https://localhost:8080/"
        },
        "id": "Pg4ZUQHzLbYG",
        "outputId": "860cde7a-928a-415a-97b3-cd2fb4ac6420"
      },
      "source": [
        "#seperating the dataset into dependent and independent variables\n",
        "y = data.iloc[:,0]\n",
        "y"
      ],
      "execution_count": null,
      "outputs": [
        {
          "output_type": "execute_result",
          "data": {
            "text/plain": [
              "0          2\n",
              "2          0\n",
              "3          2\n",
              "4          0\n",
              "5          2\n",
              "          ..\n",
              "2811718    1\n",
              "2811728    0\n",
              "2811736    2\n",
              "2811739    1\n",
              "2811760    1\n",
              "Name: Sentiment, Length: 976810, dtype: int64"
            ]
          },
          "metadata": {},
          "execution_count": 28
        }
      ]
    },
    {
      "cell_type": "code",
      "metadata": {
        "colab": {
          "base_uri": "https://localhost:8080/"
        },
        "id": "-RcSIVQKOwx7",
        "outputId": "6ac69233-4dfe-40d0-e2bc-e50709d576f0"
      },
      "source": [
        "x = data.iloc[:,1]\n",
        "x"
      ],
      "execution_count": null,
      "outputs": [
        {
          "output_type": "execute_result",
          "data": {
            "text/plain": [
              "0          understand would like assist would need get pr...\n",
              "2             send several private message one respond usual\n",
              "3          please send -PRON- private message assist clic...\n",
              "4                                                           \n",
              "5          please send -PRON- private message gain detail...\n",
              "                                 ...                        \n",
              "2811718    sorry hear james staff make way however feed b...\n",
              "2811728    london bind trains route bromley south amp lon...\n",
              "2811736    hello sound good dm account name complete serv...\n",
              "2811739    hi natalie do not sound good follow -PRON- dm ...\n",
              "2811760    hi apologie inconvenience backlog queue due ma...\n",
              "Name: new_text, Length: 976810, dtype: object"
            ]
          },
          "metadata": {},
          "execution_count": 29
        }
      ]
    },
    {
      "cell_type": "code",
      "metadata": {
        "id": "Y7Mgv7_7Q0b3"
      },
      "source": [
        "from sklearn.feature_extraction.text import CountVectorizer\n",
        "from sklearn.feature_extraction.text import TfidfTransformer\n",
        "from sklearn.model_selection import train_test_split\n",
        "from sklearn.naive_bayes import MultinomialNB\n",
        "from sklearn.metrics import confusion_matrix"
      ],
      "execution_count": null,
      "outputs": []
    },
    {
      "cell_type": "code",
      "metadata": {
        "id": "Kj03QpsPQ0K-"
      },
      "source": [
        "#using count vectorizer to convert the text to matrix\n",
        "vectorizer = CountVectorizer(lowercase=False)\n",
        "x_vec = vectorizer.fit_transform(x)"
      ],
      "execution_count": null,
      "outputs": []
    },
    {
      "cell_type": "code",
      "metadata": {
        "id": "GE1DvJWATXUg"
      },
      "source": [
        "#converting the sparse matrix to dense\n",
        "x_vec = x_vec.todense()\n",
        "x_vec"
      ],
      "execution_count": null,
      "outputs": []
    },
    {
      "cell_type": "code",
      "metadata": {
        "id": "BwvIzy1yTXQF"
      },
      "source": [
        ""
      ],
      "execution_count": null,
      "outputs": []
    }
  ]
}