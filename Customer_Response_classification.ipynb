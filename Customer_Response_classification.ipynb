{
  "nbformat": 4,
  "nbformat_minor": 0,
  "metadata": {
    "colab": {
      "name": "Customer Response classification.ipynb",
      "provenance": [],
      "mount_file_id": "1ycBAw7eoI-8Gu1Sk3XWua9MHrC7hQJyL",
      "authorship_tag": "ABX9TyO8+7N3zrnNqDKN9fhff/V5",
      "include_colab_link": true
    },
    "kernelspec": {
      "name": "python3",
      "display_name": "Python 3"
    },
    "language_info": {
      "name": "python"
    }
  },
  "cells": [
    {
      "cell_type": "markdown",
      "metadata": {
        "id": "view-in-github",
        "colab_type": "text"
      },
      "source": [
        "<a href=\"https://colab.research.google.com/github/Ashara-kosi/customerResponse/blob/main/Customer_Response_classification.ipynb\" target=\"_parent\"><img src=\"https://colab.research.google.com/assets/colab-badge.svg\" alt=\"Open In Colab\"/></a>"
      ]
    },
    {
      "cell_type": "code",
      "metadata": {
        "id": "09XTeC_n40ja"
      },
      "source": [
        "import pandas as pd\n",
        "import numpy as np\n",
        "import string \n",
        "import nltk"
      ],
      "execution_count": 1,
      "outputs": []
    },
    {
      "cell_type": "code",
      "metadata": {
        "colab": {
          "base_uri": "https://localhost:8080/",
          "height": 202
        },
        "id": "olKGohJS5Vnk",
        "outputId": "90faf124-c674-4179-d385-8795e92d7f3e"
      },
      "source": [
        "tweets = pd.read_csv('/content/drive/MyDrive/cleaned_text.csv')\n",
        "tweets.head()"
      ],
      "execution_count": 2,
      "outputs": [
        {
          "output_type": "execute_result",
          "data": {
            "text/html": [
              "<div>\n",
              "<style scoped>\n",
              "    .dataframe tbody tr th:only-of-type {\n",
              "        vertical-align: middle;\n",
              "    }\n",
              "\n",
              "    .dataframe tbody tr th {\n",
              "        vertical-align: top;\n",
              "    }\n",
              "\n",
              "    .dataframe thead th {\n",
              "        text-align: right;\n",
              "    }\n",
              "</style>\n",
              "<table border=\"1\" class=\"dataframe\">\n",
              "  <thead>\n",
              "    <tr style=\"text-align: right;\">\n",
              "      <th></th>\n",
              "      <th>Unnamed: 0</th>\n",
              "      <th>new_text</th>\n",
              "    </tr>\n",
              "  </thead>\n",
              "  <tbody>\n",
              "    <tr>\n",
              "      <th>0</th>\n",
              "      <td>0</td>\n",
              "      <td>understand would like assist would need get pr...</td>\n",
              "    </tr>\n",
              "    <tr>\n",
              "      <th>1</th>\n",
              "      <td>2</td>\n",
              "      <td>send several private message one respond usual</td>\n",
              "    </tr>\n",
              "    <tr>\n",
              "      <th>2</th>\n",
              "      <td>3</td>\n",
              "      <td>please send -PRON- private message assist clic...</td>\n",
              "    </tr>\n",
              "    <tr>\n",
              "      <th>3</th>\n",
              "      <td>4</td>\n",
              "      <td>NaN</td>\n",
              "    </tr>\n",
              "    <tr>\n",
              "      <th>4</th>\n",
              "      <td>5</td>\n",
              "      <td>please send -PRON- private message gain detail...</td>\n",
              "    </tr>\n",
              "  </tbody>\n",
              "</table>\n",
              "</div>"
            ],
            "text/plain": [
              "   Unnamed: 0                                           new_text\n",
              "0           0  understand would like assist would need get pr...\n",
              "1           2     send several private message one respond usual\n",
              "2           3  please send -PRON- private message assist clic...\n",
              "3           4                                                NaN\n",
              "4           5  please send -PRON- private message gain detail..."
            ]
          },
          "metadata": {},
          "execution_count": 2
        }
      ]
    },
    {
      "cell_type": "code",
      "metadata": {
        "id": "efSfUlsB-9Xc",
        "colab": {
          "base_uri": "https://localhost:8080/"
        },
        "outputId": "d7fcab4b-c802-40c7-8650-84e3485e6122"
      },
      "source": [
        "tweets.isnull().sum()"
      ],
      "execution_count": 3,
      "outputs": [
        {
          "output_type": "execute_result",
          "data": {
            "text/plain": [
              "Unnamed: 0        0\n",
              "new_text      18327\n",
              "dtype: int64"
            ]
          },
          "metadata": {},
          "execution_count": 3
        }
      ]
    },
    {
      "cell_type": "code",
      "metadata": {
        "colab": {
          "base_uri": "https://localhost:8080/"
        },
        "id": "xzFFbKCdKXXH",
        "outputId": "8a8ee222-b69c-4cf2-c1ac-51969940a4ca"
      },
      "source": [
        "tweets.info()"
      ],
      "execution_count": 4,
      "outputs": [
        {
          "output_type": "stream",
          "name": "stdout",
          "text": [
            "<class 'pandas.core.frame.DataFrame'>\n",
            "RangeIndex: 976810 entries, 0 to 976809\n",
            "Data columns (total 2 columns):\n",
            " #   Column      Non-Null Count   Dtype \n",
            "---  ------      --------------   ----- \n",
            " 0   Unnamed: 0  976810 non-null  int64 \n",
            " 1   new_text    958483 non-null  object\n",
            "dtypes: int64(1), object(1)\n",
            "memory usage: 14.9+ MB\n"
          ]
        }
      ]
    },
    {
      "cell_type": "code",
      "metadata": {
        "id": "ZNKiWUlIKXiP"
      },
      "source": [
        "#removing null values\n",
        "tweets = tweets.dropna()"
      ],
      "execution_count": 5,
      "outputs": []
    },
    {
      "cell_type": "code",
      "metadata": {
        "colab": {
          "base_uri": "https://localhost:8080/"
        },
        "id": "CudiBXux5Oxf",
        "outputId": "d1d9452b-56d1-476c-dd1c-43f2dc1231e1"
      },
      "source": [
        "nltk.download('vader_lexicon')\n",
        "from nltk.sentiment.vader import SentimentIntensityAnalyzer\n",
        "from nltk.sentiment.util import *\n",
        "#Sentiment Analysis\n",
        "SIA = SentimentIntensityAnalyzer()\n",
        "tweets[\"new_text\"]= tweets[\"new_text\"].astype(str)\n",
        "# Applying Model, Variable Creation\n",
        "tweets['Polarity Score']=tweets[\"new_text\"].apply(lambda x:SIA.polarity_scores(x)['compound'])\n",
        "tweets['Neutral Score']=tweets[\"new_text\"].apply(lambda x:SIA.polarity_scores(x)['neu'])\n",
        "tweets['Negative Score']=tweets[\"new_text\"].apply(lambda x:SIA.polarity_scores(x)['neg'])\n",
        "tweets['Positive Score']=tweets[\"new_text\"].apply(lambda x:SIA.polarity_scores(x)['pos'])\n",
        "# Converting 0 to 1 Decimal Score to a Categorical Variable\n",
        "tweets['Sentiment']=''\n",
        "tweets.loc[tweets['Polarity Score']>0,'Sentiment']='Positive'\n",
        "tweets.loc[tweets['Polarity Score']==0,'Sentiment']='Neutral'\n",
        "tweets.loc[tweets['Polarity Score']<0,'Sentiment']='Negative'"
      ],
      "execution_count": 6,
      "outputs": [
        {
          "output_type": "stream",
          "name": "stdout",
          "text": [
            "[nltk_data] Downloading package vader_lexicon to /root/nltk_data...\n"
          ]
        },
        {
          "output_type": "stream",
          "name": "stderr",
          "text": [
            "/usr/local/lib/python3.7/dist-packages/nltk/twitter/__init__.py:20: UserWarning: The twython library has not been installed. Some functionality from the twitter package will not be available.\n",
            "  warnings.warn(\"The twython library has not been installed. \"\n"
          ]
        }
      ]
    },
    {
      "cell_type": "code",
      "metadata": {
        "id": "6A62n3rOnVKi"
      },
      "source": [
        "data = tweets[['Sentiment','new_text']]\n"
      ],
      "execution_count": 20,
      "outputs": []
    },
    {
      "cell_type": "code",
      "metadata": {
        "id": "-EfWMSvV5O2o"
      },
      "source": [
        "data2 = data.loc[data[\"Sentiment\"] == \"Neutral\" ]"
      ],
      "execution_count": 21,
      "outputs": []
    },
    {
      "cell_type": "code",
      "metadata": {
        "id": "FEShIyWD5O5h",
        "colab": {
          "base_uri": "https://localhost:8080/"
        },
        "outputId": "c25ccd70-56a1-4260-a217-44b8b1174109"
      },
      "source": [
        "data.drop(data[data['Sentiment'] == 'Neutral'].index, inplace = True)"
      ],
      "execution_count": 22,
      "outputs": [
        {
          "output_type": "stream",
          "name": "stderr",
          "text": [
            "/usr/local/lib/python3.7/dist-packages/pandas/core/frame.py:4174: SettingWithCopyWarning: \n",
            "A value is trying to be set on a copy of a slice from a DataFrame\n",
            "\n",
            "See the caveats in the documentation: https://pandas.pydata.org/pandas-docs/stable/user_guide/indexing.html#returning-a-view-versus-a-copy\n",
            "  errors=errors,\n"
          ]
        }
      ]
    },
    {
      "cell_type": "code",
      "metadata": {
        "id": "zLifRiZU5O8K",
        "colab": {
          "base_uri": "https://localhost:8080/"
        },
        "outputId": "284697a1-f35a-4bf6-9ac0-1a2bb541c946"
      },
      "source": [
        "data['Sentiment'].replace(to_replace={'Positive':0,'Negative':1},inplace = True)"
      ],
      "execution_count": 23,
      "outputs": [
        {
          "output_type": "stream",
          "name": "stderr",
          "text": [
            "/usr/local/lib/python3.7/dist-packages/pandas/core/series.py:4582: SettingWithCopyWarning: \n",
            "A value is trying to be set on a copy of a slice from a DataFrame\n",
            "\n",
            "See the caveats in the documentation: https://pandas.pydata.org/pandas-docs/stable/user_guide/indexing.html#returning-a-view-versus-a-copy\n",
            "  method=method,\n"
          ]
        }
      ]
    },
    {
      "cell_type": "code",
      "metadata": {
        "id": "VJSWgx0x5O-r"
      },
      "source": [
        "#seperating the dataset into dependent and independent variables\n",
        "y = data.iloc[:5000,0]\n"
      ],
      "execution_count": 24,
      "outputs": []
    },
    {
      "cell_type": "code",
      "metadata": {
        "id": "GuBG1xi_6OlX"
      },
      "source": [
        "x = data.iloc[:5000,1]\n"
      ],
      "execution_count": 25,
      "outputs": []
    },
    {
      "cell_type": "code",
      "metadata": {
        "id": "YzGj9Uvi6OAT"
      },
      "source": [
        "from sklearn.feature_extraction.text import CountVectorizer\n",
        "from sklearn.feature_extraction.text import TfidfTransformer\n",
        "from sklearn.model_selection import train_test_split\n",
        "from sklearn.naive_bayes import MultinomialNB,ComplementNB\n",
        "from sklearn.metrics import confusion_matrix,accuracy_score"
      ],
      "execution_count": 48,
      "outputs": []
    },
    {
      "cell_type": "code",
      "metadata": {
        "id": "OygsQbFV6NxT"
      },
      "source": [
        "#using count vectorizer to convert the text to matrix\n",
        "vectorizer = CountVectorizer(lowercase=False)\n",
        "x_vec = vectorizer.fit_transform(x)\n"
      ],
      "execution_count": 51,
      "outputs": []
    },
    {
      "cell_type": "code",
      "metadata": {
        "id": "P3FUehMY6Nep"
      },
      "source": [
        "#converting the sparse matrix to dense\n",
        "X_vec = x_vec.todense()\n"
      ],
      "execution_count": 52,
      "outputs": []
    },
    {
      "cell_type": "code",
      "metadata": {
        "colab": {
          "base_uri": "https://localhost:8080/"
        },
        "id": "hYYJ9vsjwqil",
        "outputId": "a74ce104-6e1a-40c0-b553-584a1b1abeae"
      },
      "source": [
        "tfidf = TfidfTransformer() # by default applies \"l2\" normalization\n",
        "X_tfidf = tfidf.fit_transform(X_vec)\n",
        "X_tfidf = X_tfidf.todense()\n",
        "X_tfidf"
      ],
      "execution_count": 53,
      "outputs": [
        {
          "output_type": "execute_result",
          "data": {
            "text/plain": [
              "matrix([[0., 0., 0., ..., 0., 0., 0.],\n",
              "        [0., 0., 0., ..., 0., 0., 0.],\n",
              "        [0., 0., 0., ..., 0., 0., 0.],\n",
              "        ...,\n",
              "        [0., 0., 0., ..., 0., 0., 0.],\n",
              "        [0., 0., 0., ..., 0., 0., 0.],\n",
              "        [0., 0., 0., ..., 0., 0., 0.]])"
            ]
          },
          "metadata": {},
          "execution_count": 53
        }
      ]
    },
    {
      "cell_type": "code",
      "metadata": {
        "id": "YYNVvrSmwqGe"
      },
      "source": [
        "#splitting into train and test\n",
        "X_train, X_test, y_train, y_test = train_test_split(X_vec, y, \n",
        "                                                    test_size = 0.2, \n",
        "                                                    random_state = 0)"
      ],
      "execution_count": 54,
      "outputs": []
    },
    {
      "cell_type": "code",
      "metadata": {
        "colab": {
          "base_uri": "https://localhost:8080/"
        },
        "id": "SryhwGg1wp1x",
        "outputId": "d0f6df8a-27f8-489d-c751-cb62691166e2"
      },
      "source": [
        "#testing the complementnb model\n",
        "clf = ComplementNB()\n",
        "clf.fit(X_train, y_train)"
      ],
      "execution_count": 55,
      "outputs": [
        {
          "output_type": "execute_result",
          "data": {
            "text/plain": [
              "ComplementNB(alpha=1.0, class_prior=None, fit_prior=True, norm=False)"
            ]
          },
          "metadata": {},
          "execution_count": 55
        }
      ]
    },
    {
      "cell_type": "code",
      "metadata": {
        "colab": {
          "base_uri": "https://localhost:8080/"
        },
        "id": "6ZwmldQTxH3_",
        "outputId": "cbfcfad1-9d06-4fc4-9c0c-a6d2f3803a67"
      },
      "source": [
        "y_pred = clf.predict(X_test)\n",
        "\n",
        "confusion_matrix(y_test, y_pred)"
      ],
      "execution_count": 56,
      "outputs": [
        {
          "output_type": "execute_result",
          "data": {
            "text/plain": [
              "array([[632, 101],\n",
              "       [ 80, 187]])"
            ]
          },
          "metadata": {},
          "execution_count": 56
        }
      ]
    },
    {
      "cell_type": "code",
      "metadata": {
        "colab": {
          "base_uri": "https://localhost:8080/"
        },
        "id": "ZbbemJCpxHmk",
        "outputId": "89031a73-a6dd-4807-d492-a1665652f4c6"
      },
      "source": [
        "print(\"Number of mislabeled points out of a total %d points : %d\"\n",
        "...       % (X_test.shape[0], (y_test != y_pred).sum()))\n",
        "print('\\nAccuracy: {:.2f}\\n'.format(accuracy_score(y_test, y_pred)))\n"
      ],
      "execution_count": 57,
      "outputs": [
        {
          "output_type": "stream",
          "name": "stdout",
          "text": [
            "Number of mislabeled points out of a total 1000 points : 181\n",
            "\n",
            "Accuracy: 0.82\n",
            "\n"
          ]
        }
      ]
    },
    {
      "cell_type": "code",
      "metadata": {
        "id": "tFYfT8co6aBd"
      },
      "source": [
        "#splitting into train and test\n",
        "X_train, X_test, y_train, y_test = train_test_split(X_tfidf, y, \n",
        "                                                    test_size = 0.2, \n",
        "                                                    random_state = 0)\n"
      ],
      "execution_count": 58,
      "outputs": []
    },
    {
      "cell_type": "code",
      "metadata": {
        "id": "sskmTNYhlip5",
        "colab": {
          "base_uri": "https://localhost:8080/"
        },
        "outputId": "e514720c-c9f5-49b9-ec62-cc8f4192b433"
      },
      "source": [
        "#testing the multinomialnb model\n",
        "clf = MultinomialNB()\n",
        "clf.fit(X_train, y_train)"
      ],
      "execution_count": 59,
      "outputs": [
        {
          "output_type": "execute_result",
          "data": {
            "text/plain": [
              "MultinomialNB(alpha=1.0, class_prior=None, fit_prior=True)"
            ]
          },
          "metadata": {},
          "execution_count": 59
        }
      ]
    },
    {
      "cell_type": "code",
      "metadata": {
        "id": "pWfrtB_4lv5s",
        "colab": {
          "base_uri": "https://localhost:8080/"
        },
        "outputId": "3025b495-15e9-4f9a-afb9-44e8de1ab72a"
      },
      "source": [
        "\n",
        "y_pred = clf.predict(X_test)\n",
        "\n",
        "confusion_matrix(y_test, y_pred)"
      ],
      "execution_count": 60,
      "outputs": [
        {
          "output_type": "execute_result",
          "data": {
            "text/plain": [
              "array([[732,   1],\n",
              "       [243,  24]])"
            ]
          },
          "metadata": {},
          "execution_count": 60
        }
      ]
    },
    {
      "cell_type": "code",
      "metadata": {
        "id": "72F7gytLl3cu",
        "colab": {
          "base_uri": "https://localhost:8080/"
        },
        "outputId": "6fe4964f-97be-45cc-d352-eda30591a0d2"
      },
      "source": [
        "print(\"Number of mislabeled points out of a total %d points : %d\"\n",
        "...       % (X_test.shape[0], (y_test != y_pred).sum()))\n",
        "print('\\nAccuracy: {:.2f}\\n'.format(accuracy_score(y_test, y_pred)))\n",
        "\n"
      ],
      "execution_count": 61,
      "outputs": [
        {
          "output_type": "stream",
          "name": "stdout",
          "text": [
            "Number of mislabeled points out of a total 1000 points : 244\n",
            "\n",
            "Accuracy: 0.76\n",
            "\n"
          ]
        }
      ]
    },
    {
      "cell_type": "code",
      "metadata": {
        "id": "cdCico4QwEEX"
      },
      "source": [
        ""
      ],
      "execution_count": 61,
      "outputs": []
    },
    {
      "cell_type": "code",
      "metadata": {
        "id": "E52-na2XNVIX"
      },
      "source": [
        ""
      ],
      "execution_count": null,
      "outputs": []
    }
  ]
}